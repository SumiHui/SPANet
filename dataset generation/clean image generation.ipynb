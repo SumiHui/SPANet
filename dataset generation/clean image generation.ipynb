{
 "cells": [
  {
   "cell_type": "markdown",
   "metadata": {},
   "source": [
    "# Clean Image Generation"
   ]
  },
  {
   "cell_type": "code",
   "execution_count": 1,
   "metadata": {
    "collapsed": true
   },
   "outputs": [],
   "source": [
    "import time\n",
    "import os\n",
    "import cv2\n",
    "import imageio \n",
    "import numpy as np\n",
    "import skimage\n",
    "import skimage.io as sio\n",
    "import torch.multiprocessing as mp\n",
    "from PIL import Image\n",
    "import json\n",
    "import ffmpeg\n",
    "import scipy.io as io"
   ]
  },
  {
   "cell_type": "code",
   "execution_count": 2,
   "metadata": {
    "collapsed": true
   },
   "outputs": [],
   "source": [
    "def read_video(videoPath):\n",
    "    # read video\n",
    "    out, _ = (\n",
    "    ffmpeg\n",
    "    .input(videoPath)\n",
    "    .output('pipe:', format='rawvideo', pix_fmt='rgb24')\n",
    "    .run(capture_stdout=True)\n",
    "    )\n",
    "    # read matedata of video\n",
    "    probe = ffmpeg.probe(videoPath)\n",
    "    video_info = next(s for s in probe['streams'] if s['codec_type'] == 'video')\n",
    "    width = int(video_info['width'])\n",
    "    height = int(video_info['height'])\n",
    "    # Convert to Numpy array\n",
    "    video = (\n",
    "    np\n",
    "    .frombuffer(out,np.uint8)\n",
    "    .reshape([-1, height, width, 3])\n",
    "    )\n",
    "    return video"
   ]
  },
  {
   "cell_type": "code",
   "execution_count": 6,
   "metadata": {
    "collapsed": true,
    "scrolled": true
   },
   "outputs": [],
   "source": [
    "def get_max_occur_number(arr):\n",
    "    bc = np.bincount(arr)\n",
    "    argmax = np.argmax(bc)\n",
    "    count = bc[argmax]\n",
    "    return argmax,count\n",
    "\n",
    "def job(q,y,Range):\n",
    "    w1,w2,h1,h2 = Range\n",
    "    percent_min = []\n",
    "    percent_max = []\n",
    "    maps = np.zeros((int(h2-h1)*int(w2-w1),101))\n",
    "    for h in range(int(h1),int(h2)):\n",
    "        for w in range(int(w1),int(w2)):\n",
    "            argmax,count = get_max_occur_number(y[:,h,w])\n",
    "            index = [i for (i, j) in enumerate(sorted(y[:,h,w])) if j == argmax ]\n",
    "            percent_min.append(index[0]/len(y[:,h,w])*100)\n",
    "            percent_max.append(index[-1]/len(y[:,h,w])*100)\n",
    "    for i in range(int(h2-h1)*int(w2-w1)):\n",
    "        for j in range(0,101):\n",
    "            if j >= percent_min[i] and j <= percent_max[i]:\n",
    "                maps[i,j]=1\n",
    "    print('range {w1} to {w2}, {h1} to {h2} is being stored...'.format(w1=w1,w2=w2,h1=h1,h2=h2))\n",
    "    q.put(maps)\n",
    "    print('range {w1} to {w2}, {h1} to {h2} was stored successfully...'.format(w1=w1,w2=w2,h1=h1,h2=h2))\n",
    "\n",
    "def computer_percentile(y):\n",
    "    _,H,W = y.shape\n",
    "\n",
    "    q1 = mp.SimpleQueue()\n",
    "    q2 = mp.SimpleQueue()\n",
    "    q3 = mp.SimpleQueue()\n",
    "    q4 = mp.SimpleQueue()\n",
    "    q5 = mp.SimpleQueue()\n",
    "    q6 = mp.SimpleQueue()\n",
    "    q7 = mp.SimpleQueue()\n",
    "    q8 = mp.SimpleQueue()\n",
    "\n",
    "    R1 = (W/4*0, W/4*1, 0,   H/2 )\n",
    "    R2 = (W/4*1, W/4*2, 0,   H/2 )\n",
    "    R3 = (W/4*2, W/4*3, 0,   H/2 )\n",
    "    R4 = (W/4*3, W/4*4, 0,   H/2 )\n",
    "    R5 = (W/4*0, W/4*1, H/2,  H  )\n",
    "    R6 = (W/4*1, W/4*2, H/2,  H  )\n",
    "    R7 = (W/4*2, W/4*3, H/2,  H  )\n",
    "    R8 = (W/4*3, W/4*4, H/2,  H  )\n",
    "\n",
    "    p1 = mp.Process(target=job,args=(q1,y,R1))\n",
    "    p2 = mp.Process(target=job,args=(q2,y,R2))\n",
    "    p3 = mp.Process(target=job,args=(q3,y,R3))\n",
    "    p4 = mp.Process(target=job,args=(q4,y,R4))\n",
    "    p5 = mp.Process(target=job,args=(q5,y,R5))\n",
    "    p6 = mp.Process(target=job,args=(q6,y,R6))\n",
    "    p7 = mp.Process(target=job,args=(q7,y,R7))\n",
    "    p8 = mp.Process(target=job,args=(q8,y,R8))\n",
    "\n",
    "    p1.deamon = True\n",
    "    p2.deamon = True\n",
    "    p3.deamon = True\n",
    "    p4.deamon = True\n",
    "    p5.deamon = True\n",
    "    p6.deamon = True\n",
    "    p7.deamon = True\n",
    "    p8.deamon = True\n",
    "\n",
    "    p1.start()\n",
    "    p2.start()\n",
    "    p3.start()\n",
    "    p4.start()\n",
    "    p5.start()\n",
    "    p6.start()\n",
    "    p7.start()\n",
    "    p8.start()\n",
    "\n",
    "    map1 = q1.get()\n",
    "    map2 = q2.get()\n",
    "    map3 = q3.get()\n",
    "    map4 = q4.get()\n",
    "    map5 = q5.get()\n",
    "    map6 = q6.get()\n",
    "    map7 = q7.get()\n",
    "    map8 = q8.get()\n",
    "    maps = np.concatenate((map1,map2,map3,map4,map5,map6,map7,map8),axis=0)\n",
    "    percentile = np.argmax([np.sum(maps[:,i]) for i in range(0,101)])\n",
    "    return percentile\n",
    "def RGB2YCbCr(rgb):\n",
    "        m = np.array([[ 0.29900, -0.16874,  0.50000],\n",
    "                    [0.58700, -0.33126, -0.41869],\n",
    "                    [ 0.11400, 0.50000, -0.08131]])\n",
    "        ycbcr = np.dot(rgb,m)\n",
    "        ycbcr[:,:,1:]+=128.0\n",
    "        return ycbcr.astype('uint8')"
   ]
  },
  {
   "cell_type": "code",
   "execution_count": 3,
   "metadata": {
    "collapsed": true
   },
   "outputs": [],
   "source": [
    "rgb = read_video('./synthetic_video_dataset/4.mov')"
   ]
  },
  {
   "cell_type": "code",
   "execution_count": null,
   "metadata": {
    "collapsed": true
   },
   "outputs": [],
   "source": [
    "ycbcr = RGB2YCbCr(rgb)\n",
    "y  = ycbcr[:,:,:,0]\n",
    "\n",
    "end = time.time()\n",
    "percentile = computer_percentile(y) \n",
    "print(time.time()-end)\n",
    "print('Saving image...')\n",
    "print(time.time()-end)\n",
    "final = np.percentile(rgb,percentile,axis=0).astype('uint8')\n",
    "Image.fromarray(final).save('/Users/tiowang/LAB/demo21.png')\n",
    "\n",
    "print(time.time()-end)   \n",
    "print('Next')"
   ]
  },
  {
   "cell_type": "code",
   "execution_count": null,
   "metadata": {},
   "outputs": [],
   "source": [
    "Image.fromarray(final)"
   ]
  },
  {
   "cell_type": "code",
   "execution_count": null,
   "metadata": {
    "collapsed": true
   },
   "outputs": [],
   "source": []
  }
 ],
 "metadata": {
  "kernelspec": {
   "display_name": "Python 3",
   "language": "python",
   "name": "python3"
  },
  "language_info": {
   "codemirror_mode": {
    "name": "ipython",
    "version": 3
   },
   "file_extension": ".py",
   "mimetype": "text/x-python",
   "name": "python",
   "nbconvert_exporter": "python",
   "pygments_lexer": "ipython3",
   "version": "3.6.5"
  }
 },
 "nbformat": 4,
 "nbformat_minor": 2
}
